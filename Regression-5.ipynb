{
 "cells": [
  {
   "cell_type": "code",
   "execution_count": 1,
   "id": "8e42ed8e-eb60-48ce-85c4-5ae5cae2d529",
   "metadata": {},
   "outputs": [
    {
     "name": "stdout",
     "output_type": "stream",
     "text": [
      "Mean Squared Error: 4106.148585850508\n"
     ]
    }
   ],
   "source": [
    "### Q1. What is Elastic Net Regression and how does it differ from other regression techniques?\n",
    "\n",
    "import numpy as np\n",
    "from sklearn.linear_model import ElasticNet\n",
    "from sklearn.datasets import make_regression\n",
    "from sklearn.model_selection import train_test_split\n",
    "from sklearn.metrics import mean_squared_error\n",
    "\n",
    "# Generate sample data\n",
    "X, y = make_regression(n_samples=100, n_features=20, noise=0.1)\n",
    "\n",
    "# Split data into training and testing sets\n",
    "X_train, X_test, y_train, y_test = train_test_split(X, y, test_size=0.2, random_state=42)\n",
    "\n",
    "# Fit Elastic Net model\n",
    "model = ElasticNet(alpha=1.0, l1_ratio=0.5)\n",
    "model.fit(X_train, y_train)\n",
    "\n",
    "# Predict and evaluate\n",
    "y_pred = model.predict(X_test)\n",
    "mse = mean_squared_error(y_test, y_pred)\n",
    "print(f'Mean Squared Error: {mse}')\n"
   ]
  },
  {
   "cell_type": "code",
   "execution_count": 2,
   "id": "e4582139-9718-438b-8f4a-d93994f59d1f",
   "metadata": {},
   "outputs": [
    {
     "name": "stdout",
     "output_type": "stream",
     "text": [
      "Optimal alpha: 0.19853993765769157\n",
      "Optimal l1_ratio: 0.5\n",
      "Mean Squared Error: 834.6577642626911\n"
     ]
    }
   ],
   "source": [
    "### Q2. How do you choose the optimal values of the regularization parameters for Elastic Net Regression?\n",
    "\n",
    "import numpy as np\n",
    "from sklearn.linear_model import ElasticNetCV\n",
    "from sklearn.datasets import make_regression\n",
    "from sklearn.model_selection import train_test_split\n",
    "from sklearn.metrics import mean_squared_error\n",
    "\n",
    "# Generate sample data\n",
    "X, y = make_regression(n_samples=100, n_features=20, noise=0.1)\n",
    "\n",
    "# Split data into training and testing sets\n",
    "X_train, X_test, y_train, y_test = train_test_split(X, y, test_size=0.2, random_state=42)\n",
    "\n",
    "# ElasticNetCV automatically tunes alpha and l1_ratio using cross-validation\n",
    "elastic_net_cv = ElasticNetCV(cv=5, random_state=42)\n",
    "elastic_net_cv.fit(X_train, y_train)\n",
    "\n",
    "# Optimal parameters\n",
    "best_alpha = elastic_net_cv.alpha_\n",
    "best_l1_ratio = elastic_net_cv.l1_ratio_\n",
    "\n",
    "print(f'Optimal alpha: {best_alpha}')\n",
    "print(f'Optimal l1_ratio: {best_l1_ratio}')\n",
    "\n",
    "# Predict and evaluate with the best parameters\n",
    "y_pred = elastic_net_cv.predict(X_test)\n",
    "mse = mean_squared_error(y_test, y_pred)\n",
    "print(f'Mean Squared Error: {mse}')\n",
    "\n"
   ]
  },
  {
   "cell_type": "code",
   "execution_count": null,
   "id": "609a1946-0ba8-4baa-815f-845d2b2157c2",
   "metadata": {},
   "outputs": [],
   "source": [
    "from sklearn.model_selection import GridSearchCV\n",
    "from sklearn.linear_model import ElasticNet\n",
    "\n",
    "# Define the model\n",
    "elastic_net = ElasticNet()\n",
    "\n",
    "# Define the parameter grid\n",
    "param_grid = {\n",
    "    'alpha': np.logspace(-4, 1, 50),  # Range of alpha values\n",
    "    'l1_ratio': np.linspace(0, 1, 50)  # Range of l1_ratio values\n",
    "}\n",
    "\n",
    "# Set up the GridSearchCV\n",
    "grid_search = GridSearchCV(elastic_net, param_grid, cv=5, scoring='neg_mean_squared_error')\n",
    "grid_search.fit(X_train, y_train)\n",
    "\n",
    "# Best parameters\n",
    "best_params = grid_search.best_params_\n",
    "print(f'Best parameters: {best_params}')\n",
    "\n",
    "# Predict and evaluate with the best parameters\n",
    "y_pred = grid_search.predict(X_test)\n",
    "mse = mean_squared_error(y_test, y_pred)\n",
    "print(f'Mean Squared Error: {mse}')\n"
   ]
  },
  {
   "cell_type": "code",
   "execution_count": 6,
   "id": "05bc329c-845e-4f4d-bcfc-64a50841e71c",
   "metadata": {},
   "outputs": [],
   "source": [
    "## Q3. What are the advantages and disadvantages of Elastic Net Regression?\n",
    "\n",
    "\n",
    "#Conclusion:\n",
    "#Elastic Net Regression is a powerful tool that combines the benefits of Ridge and Lasso regression. It is particularly useful when dealing with high-dimensional data, multicollinearity, or the need for feature selection. However, it comes with increased complexity and computational demands. Proper tuning of the regularization parameters is crucial for achieving optimal model performance.\n",
    "\n",
    "\n",
    "\n",
    "\n",
    "\n",
    "\n"
   ]
  },
  {
   "cell_type": "code",
   "execution_count": 8,
   "id": "36b14664-8975-4ee1-a399-69fe48240dfe",
   "metadata": {},
   "outputs": [],
   "source": [
    "### Q4. What are some common use cases for Elastic Net Regression?\n",
    "\n",
    "#Elastic Net Regression is a powerful tool that combines the benefits of Ridge and Lasso regression. It is particularly useful when dealing with high-dimensional data, multicollinearity, or the need for feature selection. However, it comes with increased complexity and computational demands. Proper tuning of the regularization parameters is crucial for achieving optimal model performance."
   ]
  },
  {
   "cell_type": "code",
   "execution_count": 9,
   "id": "bac3ef3e-e8c0-49ce-b90e-8fac41fa1015",
   "metadata": {},
   "outputs": [],
   "source": [
    "### Q5. How do you interpret the coefficients in Elastic Net Regression?\n",
    "\n",
    "# Conclusion:\n",
    "#Elastic Net Regression is widely applicable in scenarios involving high-dimensional data, multicollinearity, and the need for feature selection. It is particularly useful in fields like genomics, finance, marketing, medical research, and predictive modeling. By combining the strengths of both Ridge and Lasso regression, Elastic Net provides a flexible and powerful tool for a variety of complex modeling tasks."
   ]
  },
  {
   "cell_type": "code",
   "execution_count": null,
   "id": "3d2181b9-7486-453f-92c9-d32672893ebf",
   "metadata": {},
   "outputs": [],
   "source": []
  }
 ],
 "metadata": {
  "kernelspec": {
   "display_name": "Python 3 (ipykernel)",
   "language": "python",
   "name": "python3"
  },
  "language_info": {
   "codemirror_mode": {
    "name": "ipython",
    "version": 3
   },
   "file_extension": ".py",
   "mimetype": "text/x-python",
   "name": "python",
   "nbconvert_exporter": "python",
   "pygments_lexer": "ipython3",
   "version": "3.10.8"
  }
 },
 "nbformat": 4,
 "nbformat_minor": 5
}
